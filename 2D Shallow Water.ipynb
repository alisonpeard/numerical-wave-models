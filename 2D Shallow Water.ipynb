{
 "cells": [
  {
   "cell_type": "markdown",
   "id": "48f655a7",
   "metadata": {},
   "source": [
    "Using [this](https://github.com/jostbr/shallow-water) as a tutorial."
   ]
  },
  {
   "cell_type": "code",
   "execution_count": 201,
   "id": "3668feb3",
   "metadata": {},
   "outputs": [],
   "source": [
    "import time\n",
    "import numpy as np\n",
    "import matplotlib.pyplot as plt\n",
    "from mpl_toolkits.axes_grid1 import make_axes_locatable"
   ]
  },
  {
   "cell_type": "code",
   "execution_count": 237,
   "id": "2ca53b88",
   "metadata": {},
   "outputs": [],
   "source": [
    "# parameters\n",
    "H = 100\n",
    "L = 100\n",
    "g = 9.81\n",
    "dx = 1\n",
    "dt = 0.1 * dx / np.sqrt(g*H)    # Time step (defined from the CFL condition)"
   ]
  },
  {
   "cell_type": "code",
   "execution_count": 239,
   "id": "55007cdc",
   "metadata": {},
   "outputs": [
    {
     "data": {
      "text/plain": [
       "<matplotlib.colorbar.Colorbar at 0x13c5ae620>"
      ]
     },
     "execution_count": 239,
     "metadata": {},
     "output_type": "execute_result"
    },
    {
     "data": {
      "image/png": "[encoded data removed]",
      "text/plain": [
       "<Figure size 600x400 with 3 Axes>"
      ]
     },
     "metadata": {},
     "output_type": "display_data"
    }
   ],
   "source": [
    "u_0 = np.ones((L, L))\n",
    "eta_0 = np.ones((L, L))\n",
    "u_0[:, -1:] = 100  # BC is IC\n",
    "eta_0[:, -1:] = 100\n",
    "\n",
    "fig, axs = plt.subplots(1, 2, figsize=(6, 4))\n",
    "axs[0].imshow(u_0)\n",
    "\n",
    "u_n = u_0\n",
    "eta_n = eta_0\n",
    "for _ in range(1):\n",
    "    u_n[:, :-1] = u_n[:, :-1] - (dt / 2 * dx) * (u_n[:, 1:] - u_n[:, :-1])\n",
    "#         eta_n[:, :-1] * (u_n[:, 1:] - u_n[:, :-1]) / (2 * dx) # +\n",
    "#         u_n[:, :-1] * (eta_n[:, 1:] - eta_n[:, :-1]) / (2 * dx)\n",
    "#     )\n",
    "    u_n[:, -1:] = 100    # source bc\n",
    "    eta_n[:, -1:] = 100  # source bc\n",
    "\n",
    "axs[1].imshow(u_n)\n",
    "divider = make_axes_locatable(axs[1])\n",
    "cax = divider.append_axes('right', size='5%', pad=0.05)\n",
    "fig.colorbar(im, cax)  "
   ]
  },
  {
   "cell_type": "code",
   "execution_count": 236,
   "id": "da760825",
   "metadata": {},
   "outputs": [
    {
     "data": {
      "text/plain": [
       "array([[ 0.    ,  0.    ,  0.    , ...,  0.    , -0.0099,  0.9999],\n",
       "       [ 0.    ,  0.    ,  0.    , ...,  0.    , -0.0099,  0.9999],\n",
       "       [ 0.    ,  0.    ,  0.    , ...,  0.    , -0.0099,  0.9999],\n",
       "       ...,\n",
       "       [ 0.    ,  0.    ,  0.    , ...,  0.    , -0.0099,  0.9999],\n",
       "       [ 0.    ,  0.    ,  0.    , ...,  0.    , -0.0099,  0.9999],\n",
       "       [ 0.    ,  0.    ,  0.    , ...,  0.    , -0.0099,  0.9999]])"
      ]
     },
     "execution_count": 236,
     "metadata": {},
     "output_type": "execute_result"
    }
   ],
   "source": [
    "(dt / 2 * dx) *  (u_n[:, 1:] - u_n[:, :-1])"
   ]
  },
  {
   "cell_type": "code",
   "execution_count": 235,
   "id": "755d1f9e",
   "metadata": {},
   "outputs": [
    {
     "data": {
      "text/plain": [
       "array([[ 0.  ,  0.  ,  0.  , ...,  0.  , -0.99, 99.99],\n",
       "       [ 0.  ,  0.  ,  0.  , ...,  0.  , -0.99, 99.99],\n",
       "       [ 0.  ,  0.  ,  0.  , ...,  0.  , -0.99, 99.99],\n",
       "       ...,\n",
       "       [ 0.  ,  0.  ,  0.  , ...,  0.  , -0.99, 99.99],\n",
       "       [ 0.  ,  0.  ,  0.  , ...,  0.  , -0.99, 99.99],\n",
       "       [ 0.  ,  0.  ,  0.  , ...,  0.  , -0.99, 99.99]])"
      ]
     },
     "execution_count": 235,
     "metadata": {},
     "output_type": "execute_result"
    }
   ],
   "source": []
  },
  {
   "cell_type": "code",
   "execution_count": 233,
   "id": "be4d574e",
   "metadata": {},
   "outputs": [
    {
     "data": {
      "text/plain": [
       "array([[1.e+00, 1.e+00, 1.e+00, ..., 1.e+00, 1.e-02, 1.e+02],\n",
       "       [1.e+00, 1.e+00, 1.e+00, ..., 1.e+00, 1.e-02, 1.e+02],\n",
       "       [1.e+00, 1.e+00, 1.e+00, ..., 1.e+00, 1.e-02, 1.e+02],\n",
       "       ...,\n",
       "       [1.e+00, 1.e+00, 1.e+00, ..., 1.e+00, 1.e-02, 1.e+02],\n",
       "       [1.e+00, 1.e+00, 1.e+00, ..., 1.e+00, 1.e-02, 1.e+02],\n",
       "       [1.e+00, 1.e+00, 1.e+00, ..., 1.e+00, 1.e-02, 1.e+02]])"
      ]
     },
     "execution_count": 233,
     "metadata": {},
     "output_type": "execute_result"
    }
   ],
   "source": [
    "u_n"
   ]
  },
  {
   "cell_type": "code",
   "execution_count": 178,
   "id": "fb12622a",
   "metadata": {},
   "outputs": [],
   "source": [
    "u_n[:, :-1] = u_n[:, :-1] - dt * ( (u_n[:, 1:] - u_n[:, :-1]) / (2 * dx))\n",
    "u_n[:, -1:] = 100  # source bc"
   ]
  },
  {
   "cell_type": "code",
   "execution_count": 179,
   "id": "90010759",
   "metadata": {},
   "outputs": [
    {
     "data": {
      "text/plain": [
       "array([[   1.  ,    1.  ,    1.  ,    1.  ,    1.  ,    1.  ,    1.  ,\n",
       "          25.75, -122.75,  100.  ],\n",
       "       [   1.  ,    1.  ,    1.  ,    1.  ,    1.  ,    1.  ,    1.  ,\n",
       "          25.75, -122.75,  100.  ],\n",
       "       [   1.  ,    1.  ,    1.  ,    1.  ,    1.  ,    1.  ,    1.  ,\n",
       "          25.75, -122.75,  100.  ],\n",
       "       [   1.  ,    1.  ,    1.  ,    1.  ,    1.  ,    1.  ,    1.  ,\n",
       "          25.75, -122.75,  100.  ],\n",
       "       [   1.  ,    1.  ,    1.  ,    1.  ,    1.  ,    1.  ,    1.  ,\n",
       "          25.75, -122.75,  100.  ],\n",
       "       [   1.  ,    1.  ,    1.  ,    1.  ,    1.  ,    1.  ,    1.  ,\n",
       "          25.75, -122.75,  100.  ],\n",
       "       [   1.  ,    1.  ,    1.  ,    1.  ,    1.  ,    1.  ,    1.  ,\n",
       "          25.75, -122.75,  100.  ],\n",
       "       [   1.  ,    1.  ,    1.  ,    1.  ,    1.  ,    1.  ,    1.  ,\n",
       "          25.75, -122.75,  100.  ],\n",
       "       [   1.  ,    1.  ,    1.  ,    1.  ,    1.  ,    1.  ,    1.  ,\n",
       "          25.75, -122.75,  100.  ],\n",
       "       [   1.  ,    1.  ,    1.  ,    1.  ,    1.  ,    1.  ,    1.  ,\n",
       "          25.75, -122.75,  100.  ]])"
      ]
     },
     "execution_count": 179,
     "metadata": {},
     "output_type": "execute_result"
    }
   ],
   "source": [
    "u_n"
   ]
  },
  {
   "cell_type": "code",
   "execution_count": null,
   "id": "8ec96383",
   "metadata": {},
   "outputs": [],
   "source": []
  },
  {
   "cell_type": "code",
   "execution_count": null,
   "id": "48c65bc9",
   "metadata": {},
   "outputs": [],
   "source": []
  },
  {
   "cell_type": "code",
   "execution_count": null,
   "id": "3053874c",
   "metadata": {},
   "outputs": [],
   "source": []
  },
  {
   "cell_type": "code",
   "execution_count": 138,
   "id": "3d68882c",
   "metadata": {},
   "outputs": [
    {
     "data": {
      "text/plain": [
       "<matplotlib.colorbar.Colorbar at 0x12c8cafb0>"
      ]
     },
     "execution_count": 138,
     "metadata": {},
     "output_type": "execute_result"
    },
    {
     "data": {
      "image/png": "[encoded data removed]",
      "text/plain": [
       "<Figure size 200x200 with 2 Axes>"
      ]
     },
     "metadata": {},
     "output_type": "display_data"
    }
   ],
   "source": [
    "\n",
    "\n",
    "fig, ax = plt.subplots(figsize=(2, 2))\n",
    "ax.imshow(u_n)\n",
    "\n",
    "divider = make_axes_locatable(ax)\n",
    "cax = divider.append_axes('right', size='5%', pad=0.05)\n",
    "fig.colorbar(im, cax)"
   ]
  },
  {
   "cell_type": "code",
   "execution_count": 73,
   "id": "0b95135d",
   "metadata": {},
   "outputs": [
    {
     "data": {
      "text/plain": [
       "array([[10.,  1.,  1., ...,  1.,  1.,  1.],\n",
       "       [10.,  1.,  1., ...,  1.,  1.,  1.],\n",
       "       [10.,  1.,  1., ...,  1.,  1.,  1.],\n",
       "       ...,\n",
       "       [10.,  1.,  1., ...,  1.,  1.,  1.],\n",
       "       [10.,  1.,  1., ...,  1.,  1.,  1.],\n",
       "       [10.,  1.,  1., ...,  1.,  1.,  1.]])"
      ]
     },
     "execution_count": 73,
     "metadata": {},
     "output_type": "execute_result"
    }
   ],
   "source": [
    "u_n[:, 1:]"
   ]
  },
  {
   "cell_type": "code",
   "execution_count": 66,
   "id": "15de5be2",
   "metadata": {},
   "outputs": [
    {
     "data": {
      "text/plain": [
       "array([[10., 10.,  1., ...,  1.,  1.,  1.],\n",
       "       [10., 10.,  1., ...,  1.,  1.,  1.],\n",
       "       [10., 10.,  1., ...,  1.,  1.,  1.],\n",
       "       ...,\n",
       "       [10., 10.,  1., ...,  1.,  1.,  1.],\n",
       "       [10., 10.,  1., ...,  1.,  1.,  1.],\n",
       "       [10., 10.,  1., ...,  1.,  1.,  1.]])"
      ]
     },
     "execution_count": 66,
     "metadata": {},
     "output_type": "execute_result"
    }
   ],
   "source": [
    "u_n[:-1, :]"
   ]
  }
 ],
 "metadata": {
  "kernelspec": {
   "display_name": "general",
   "language": "python",
   "name": "general"
  },
  "language_info": {
   "codemirror_mode": {
    "name": "ipython",
    "version": 3
   },
   "file_extension": ".py",
   "mimetype": "text/x-python",
   "name": "python",
   "nbconvert_exporter": "python",
   "pygments_lexer": "ipython3",
   "version": "3.10.9"
  }
 },
 "nbformat": 4,
 "nbformat_minor": 5
}
