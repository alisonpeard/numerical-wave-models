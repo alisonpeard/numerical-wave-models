{
 "cells": [
  {
   "cell_type": "code",
   "execution_count": 102,
   "id": "26d37e1a",
   "metadata": {},
   "outputs": [],
   "source": [
    "import os\n",
    "import numpy as np\n",
    "import numpy.ma as ma\n",
    "import matplotlib.pyplot as plt\n",
    "import cmocean.cm as cmo\n",
    "import swan\n",
    "from importlib import reload\n",
    "reload(swan)\n",
    "\n",
    "# swan defaults\n",
    "nx = 5\n",
    "ny = 6\n",
    "\n",
    "n = nx * ny\n",
    "nsigma = 4\n",
    "ntheta = 3 # full is ntheta * ntheta\n",
    "\n",
    "# load input data\n",
    "wd = os.path.join('..')\n",
    "datadir = os.path.join(wd, \"data_temp\")\n",
    "u10 = np.load(os.path.join(datadir, \"speed.npz\"))['array'][:ny, :nx]\n",
    "theta = np.load(os.path.join(datadir, \"direction.npz\"))['array'][:ny, :nx]\n",
    "swh = np.load(os.path.join(datadir, \"sig_waves.npz\"))['array'][:ny, :nx]\n",
    "bathy = np.load(os.path.join(datadir, \"bathymetry.npz\"))['array'][:ny, :nx]\n",
    "land = [bathy < 0]\n",
    "bathy[bathy < 0] = 1e-5 # check correct solution here later\n",
    "\n",
    "dx = np.load(os.path.join(datadir, \"bathymetry.npz\"))['mesh'].item()\n",
    "dy = dx\n",
    "\n",
    "# redo in case nx or ny out of bounds\n",
    "ny, nx = u10.shape\n",
    "n = nx * ny\n",
    "dims = [ntheta, nsigma, ny, nx]\n",
    "\n",
    "# spectral grid\n",
    "sigmas = np.linspace(0.05, 0.4, nsigma)\n",
    "thetas1 = np.linspace(0, np.pi/2, ntheta)\n",
    "thetas2 = np.linspace(np.pi/2, np.pi, ntheta)\n",
    "thetas3 = np.linspace(-np.pi/2, -np.pi, 3)\n",
    "thetas4 = np.linspace(0, -np.pi/2, 3)\n",
    "theta_sweeps = [thetas1, thetas2, thetas3, thetas4]\n",
    "\n",
    "stepθ = 1\n",
    "stepσ = ntheta\n",
    "stepy = stepσ * nsigma\n",
    "stepx = stepy * ny\n",
    "\n",
    "dsigma = sigmas[1] - sigmas[0]"
   ]
  },
  {
   "cell_type": "markdown",
   "id": "54d06f71",
   "metadata": {},
   "source": [
    "## Sweep $n$"
   ]
  },
  {
   "cell_type": "code",
   "execution_count": 103,
   "id": "5a451988",
   "metadata": {},
   "outputs": [
    {
     "data": {
      "image/png": "[encoded data removed]",
      "text/plain": [
       "<Figure size 1000x200 with 4 Axes>"
      ]
     },
     "metadata": {},
     "output_type": "display_data"
    }
   ],
   "source": [
    "# check everything is being flipped correctly\n",
    "sweep = 3\n",
    "fig, axs = plt.subplots(1, 4, figsize=(10, 2))\n",
    "axs[0].imshow(bathy)\n",
    "axs[1].imshow(swan.flip_for_sweep(bathy, sweep))\n",
    "_, _, H  = np.meshgrid(thetas, sigmas, bathy.ravel(order=swan.order), indexing='ij')\n",
    "axs[2].imshow(swan.flattened_meshgrid(H, dims, which='z'))\n",
    "_, _, H  = np.meshgrid(thetas, sigmas, swan.flip_for_sweep(bathy, sweep).ravel(order=swan.order), indexing='ij')\n",
    "axs[3].imshow(swan.flattened_meshgrid(H, dims, which='z'));"
   ]
  },
  {
   "cell_type": "code",
   "execution_count": 87,
   "id": "d72d20fc",
   "metadata": {},
   "outputs": [
    {
     "data": {
      "image/png": "[encoded data removed]",
      "text/plain": [
       "<Figure size 1000x400 with 8 Axes>"
      ]
     },
     "metadata": {},
     "output_type": "display_data"
    }
   ],
   "source": [
    "dt = 1\n",
    "N_sweeps = []\n",
    "A_sweeps = []\n",
    "for sweep in range(4):\n",
    "    thetas = theta_sweeps[sweep]\n",
    "    dtheta = thetas[1] - thetas[0]\n",
    "\n",
    "    # make meshgrids for all the inputs\n",
    "    *_, H  = np.meshgrid(thetas, sigmas, swan.flip_for_sweep(bathy, sweep).ravel(order=swan.order), indexing='ij')\n",
    "    *_, θm  = np.meshgrid(thetas, sigmas, swan.flip_for_sweep(theta, sweep).ravel(order=swan.order), indexing='ij') # wind dir (assume mean wave dir)\n",
    "    θ, Σ, U10  = np.meshgrid(thetas, sigmas, swan.flip_for_sweep(u10, sweep).ravel(order=swan.order), indexing='ij')\n",
    "\n",
    "    # initial energy distribution\n",
    "    Ef = swan.spectrum_pm(Σ, U10)\n",
    "    fpeak = swan.peak_frequency_pm(U10) / (2 * np.pi)\n",
    "    D = swan.cos2_model(θ, θm)\n",
    "    E = Ef * D\n",
    "    N = E / Σ\n",
    "    N_sweeps.append(N)\n",
    "\n",
    "    # velocities\n",
    "    K = swan.inverse_dispersion_approx(Σ, H)\n",
    "    c = swan.phase_speed(K, Σ)\n",
    "    cg = swan.group_velocity(K, H, Σ)\n",
    "    cx, cy = swan.spatial_group_velocity(cg, θ)\n",
    "    cθ = swan.directional_velocity(θ, c, cg, stepx, stepy, dx, dy)\n",
    "    # cσ = ...\n",
    "\n",
    "    # update matrices\n",
    "    A_geo = swan.bsbt_matrix(stepx, stepy, cx, cy, dx, dy)\n",
    "    A_spectral = swan.theta_block_matrix(cθ, stepθ)\n",
    "    A = A_spectral + A_geo\n",
    "    I = np.eye(ntheta * nsigma * ny * nx)\n",
    "    A_sweeps.append(np.linalg.inv(I + dt * A))\n",
    "    \n",
    "fig, axs = plt.subplots(2, 4, figsize=(10, 4))\n",
    "for ax, N in zip(axs[0, :], N_sweeps):\n",
    "    ax.imshow(N[1, 1, :].reshape([ny, nx], order=swan.order))\n",
    "    ax.set_xticks([])\n",
    "    ax.set_yticks([])\n",
    "for ax, A in zip(axs[1, :], A_sweeps):\n",
    "    ax.spy(A)\n",
    "    ax.set_xticks([])\n",
    "    ax.set_yticks([])"
   ]
  },
  {
   "cell_type": "code",
   "execution_count": 92,
   "id": "180e31a9",
   "metadata": {},
   "outputs": [],
   "source": [
    "N1_sweeps = []\n",
    "for A, N in zip(A_sweeps, N_sweeps):\n",
    "    N1 = A @ N.ravel(order=swan.order)\n",
    "    N1_sweeps.append(N1.reshape([ntheta, nsigma, ny, nx], order=swan.order))"
   ]
  },
  {
   "cell_type": "code",
   "execution_count": 93,
   "id": "bfa201a9",
   "metadata": {},
   "outputs": [],
   "source": [
    "N1 = 0\n",
    "for sweep, N1_sweep in enumerate(N1_sweeps):\n",
    "    N1 += swan.flip_for_sweep(N1_sweep, sweep)"
   ]
  },
  {
   "cell_type": "code",
   "execution_count": 97,
   "id": "c0b19a4f",
   "metadata": {},
   "outputs": [
    {
     "name": "stderr",
     "output_type": "stream",
     "text": [
      "/Users/alison/Documents/DPhil/numerical-wave-models/swan/swan/relations_out.py:62: RuntimeWarning: invalid value encountered in sqrt\n",
      "  \"\"\"Significant wave height across spatial grid.\"\"\"\n"
     ]
    }
   ],
   "source": [
    "E0 = \n",
    "E = N1 * Σ.reshape([ntheta, nsigma, ny, nx], order=swan.order)\n",
    "Hs = swan.significant_wave_height(E, dtheta, 1)"
   ]
  },
  {
   "cell_type": "code",
   "execution_count": 101,
   "id": "58ce0ef2",
   "metadata": {},
   "outputs": [
    {
     "ename": "NameError",
     "evalue": "name 'N0' is not defined",
     "output_type": "error",
     "traceback": [
      "\u001b[0;31m---------------------------------------------------------------------------\u001b[0m",
      "\u001b[0;31mNameError\u001b[0m                                 Traceback (most recent call last)",
      "Cell \u001b[0;32mIn[101], line 1\u001b[0m\n\u001b[0;32m----> 1\u001b[0m \u001b[43mN0\u001b[49m\n",
      "\u001b[0;31mNameError\u001b[0m: name 'N0' is not defined"
     ]
    }
   ],
   "source": [
    "N"
   ]
  },
  {
   "cell_type": "code",
   "execution_count": 100,
   "id": "5e96c673",
   "metadata": {},
   "outputs": [
    {
     "data": {
      "text/plain": [
       "<matplotlib.image.AxesImage at 0x156ab5910>"
      ]
     },
     "execution_count": 100,
     "metadata": {},
     "output_type": "execute_result"
    },
    {
     "data": {
      "image/png": "[encoded data removed]",
      "text/plain": [
       "<Figure size 640x480 with 1 Axes>"
      ]
     },
     "metadata": {},
     "output_type": "display_data"
    }
   ],
   "source": [
    "plt.imshow(Hs)"
   ]
  }
 ],
 "metadata": {
  "kernelspec": {
   "display_name": "general",
   "language": "python",
   "name": "general"
  },
  "language_info": {
   "codemirror_mode": {
    "name": "ipython",
    "version": 3
   },
   "file_extension": ".py",
   "mimetype": "text/x-python",
   "name": "python",
   "nbconvert_exporter": "python",
   "pygments_lexer": "ipython3",
   "version": "3.9.16"
  }
 },
 "nbformat": 4,
 "nbformat_minor": 5
}
